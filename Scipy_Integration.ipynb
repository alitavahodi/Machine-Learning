{
 "cells": [
  {
   "cell_type": "markdown",
   "id": "f4f42605-cc69-413b-a52e-f91a5030cb14",
   "metadata": {},
   "source": [
    "# quad\n",
    "**(A)** compute the definite integral of the function $f(x)=x^3+x^2+x$ from $0$ to $10$ using the quad function"
   ]
  },
  {
   "cell_type": "code",
   "execution_count": 2,
   "id": "df8227ea-116c-4b62-b802-d179a7b14feb",
   "metadata": {},
   "outputs": [],
   "source": [
    "from scipy.integrate import quad"
   ]
  },
  {
   "cell_type": "code",
   "execution_count": 3,
   "id": "ab9fab7d-58b5-45c0-816e-4305a78f02f7",
   "metadata": {},
   "outputs": [],
   "source": [
    "def func(x):\n",
    "    return (x**3+x**2+x)"
   ]
  },
  {
   "cell_type": "code",
   "execution_count": 21,
   "id": "f8f11be3-f7dd-44d6-bb7c-425effd8dfb8",
   "metadata": {},
   "outputs": [
    {
     "name": "stdout",
     "output_type": "stream",
     "text": [
      "result=  2883.333333333334\n",
      "error=  3.2011430543358685e-11\n"
     ]
    }
   ],
   "source": [
    "result, error=quad(func,0,10)\n",
    "print('result= ',result)\n",
    "print('error= ',error)"
   ]
  },
  {
   "cell_type": "markdown",
   "id": "7557c740-77d1-460e-9a5e-3929d5d5d1cd",
   "metadata": {},
   "source": [
    "**(B)** compute the definite integral of a Bessel function $J_{v}(5)$ along the interval $[2,8.5]$"
   ]
  },
  {
   "cell_type": "code",
   "execution_count": 37,
   "id": "144926c1-a3a8-4e4e-bf8f-1b31b815c441",
   "metadata": {},
   "outputs": [
    {
     "data": {
      "text/plain": [
       "(1.3263633119437976, 1.472559087938083e-14)"
      ]
     },
     "execution_count": 37,
     "metadata": {},
     "output_type": "execute_result"
    }
   ],
   "source": [
    "import scipy.special as special\n",
    "result=quad(lambda x: special.jv(5,x), 2, 8.5)\n",
    "result"
   ]
  },
  {
   "cell_type": "markdown",
   "id": "dbaaf820-84b3-474c-a67d-01fecdaf8713",
   "metadata": {},
   "source": [
    "**(C)** compute integral of the lorentzian function $f(x) = \\frac{1}{\\pi (1 + x^2)}$ over infinite limits"
   ]
  },
  {
   "cell_type": "code",
   "execution_count": 171,
   "id": "40f47a24-0c5c-46d3-ad10-06335faccc0b",
   "metadata": {},
   "outputs": [
    {
     "name": "stdout",
     "output_type": "stream",
     "text": [
      "Result: 1.0\n",
      "Error: 1.641073385039507e-10\n"
     ]
    }
   ],
   "source": [
    "import numpy as np\n",
    "\n",
    "def lorentzian_function(x):\n",
    "    return 1 / (np.pi * (1 + x**2))\n",
    "\n",
    "result, error = quad(lorentzian_function, -np.inf, np.inf)\n",
    "\n",
    "print(\"Result:\", result)\n",
    "print(\"Error:\", error)\n"
   ]
  },
  {
   "cell_type": "markdown",
   "id": "c77dfec7-644f-4468-ad5e-e50f764cfce3",
   "metadata": {},
   "source": [
    "## dblquads\n",
    "**(D)** compute a double integral of the function $ f(x,y) = x^2 \\cdot y+x \\cdot y^2 $  over the region $ 0 \\leq y \\leq x $ and $ 1 \\leq x \\leq 3 $ "
   ]
  },
  {
   "cell_type": "code",
   "execution_count": 89,
   "id": "0c3e71a4-9dc6-4bb2-8e1b-adaa57935f79",
   "metadata": {},
   "outputs": [],
   "source": [
    "from scipy.integrate import dblquad\n"
   ]
  },
  {
   "cell_type": "code",
   "execution_count": 73,
   "id": "a55504df-4f19-426e-9adf-7083d85dd42c",
   "metadata": {},
   "outputs": [],
   "source": [
    "def func(y, x):\n",
    "    return (x**2)*y+x*(y**2)"
   ]
  },
  {
   "cell_type": "code",
   "execution_count": 95,
   "id": "372a322d-3ebe-4b2a-a29e-86c5e5d45853",
   "metadata": {},
   "outputs": [],
   "source": [
    "a, b = 1, 3\n",
    "gfun = lambda x: 0\n",
    "hfun = lambda x: x"
   ]
  },
  {
   "cell_type": "code",
   "execution_count": 97,
   "id": "7b21edf8-54c4-4b49-91f0-9f790aa0781a",
   "metadata": {},
   "outputs": [
    {
     "name": "stdout",
     "output_type": "stream",
     "text": [
      "Result=  40.33333333333334\n",
      "error=  7.450705892701388e-13\n"
     ]
    }
   ],
   "source": [
    "result, error = dblquad(func, a, b, gfun, hfun)\n",
    "print(\"Result= \", result)\n",
    "print(\"error= \", error)"
   ]
  },
  {
   "cell_type": "markdown",
   "id": "9d080730-b076-4259-b9e0-c60f487d1cbc",
   "metadata": {},
   "source": [
    "## tplquad\n",
    "**(E)** compute a triple integral of the function $ f(x,y) = x^2 \\cdot y \\cdot z+x \\cdot y^2 \\cdot z+x \\cdot y \\cdot z^2$  over the region $ 0 \\leq x \\leq 1 $  ,  $ 0 \\leq y(x) \\leq 2 $  , and $ 0 \\leq z(x,y) \\leq x+y $"
   ]
  },
  {
   "cell_type": "code",
   "execution_count": 127,
   "id": "5f31c667-1104-45ac-8fee-62c26aa8092b",
   "metadata": {},
   "outputs": [],
   "source": [
    "from scipy.integrate import tplquad"
   ]
  },
  {
   "cell_type": "code",
   "execution_count": 135,
   "id": "60b7250e-396f-4890-aff5-e508595a3861",
   "metadata": {},
   "outputs": [],
   "source": [
    "def func(y, x,z):\n",
    "    return (x**2)*y*z+x*(y**2)*z+x*y*(z**2)"
   ]
  },
  {
   "cell_type": "code",
   "execution_count": 137,
   "id": "d82bd32b-d472-4437-a48b-349b5a9a11e3",
   "metadata": {},
   "outputs": [],
   "source": [
    "x_lower = 0\n",
    "x_upper = 1\n",
    "\n",
    "def y_lower(x):\n",
    "    return 0\n",
    "\n",
    "def y_upper(x):\n",
    "    return 2\n",
    "\n",
    "def z_lower(x, y):\n",
    "    return 0\n",
    "\n",
    "def z_upper(x, y):\n",
    "    return x + y"
   ]
  },
  {
   "cell_type": "code",
   "execution_count": 139,
   "id": "6bf6c109-403b-4994-8b67-e47750297a03",
   "metadata": {},
   "outputs": [
    {
     "name": "stdout",
     "output_type": "stream",
     "text": [
      "Result=  8.0\n",
      "error=  4.941996591328883e-13\n"
     ]
    }
   ],
   "source": [
    "result, error = tplquad(func, x_lower, x_upper, y_lower, y_upper, z_lower, z_upper)\n",
    "print(\"Result= \", result)\n",
    "print(\"error= \", error)"
   ]
  },
  {
   "cell_type": "code",
   "execution_count": null,
   "id": "b7250d8b-080e-4b83-b7a1-9133f410f379",
   "metadata": {},
   "outputs": [],
   "source": []
  },
  {
   "cell_type": "code",
   "execution_count": 219,
   "id": "d5a5572b-7a87-4f5a-a9cc-b9a9f8729ecb",
   "metadata": {},
   "outputs": [
    {
     "name": "stdout",
     "output_type": "stream",
     "text": [
      "Result: 0.131835123698565\n",
      "Error: 1.5766701455740292e-14\n"
     ]
    }
   ],
   "source": [
    "from scipy.integrate import tplquad\n",
    "import numpy as np\n",
    "\n",
    "# Define the integrand function of three variables\n",
    "def integrand(z, r, theta):\n",
    "    return r * np.cos(theta)**2\n",
    "\n",
    "# Define the limits for each variable\n",
    "theta_lower = 0\n",
    "theta_upper = np.pi\n",
    "\n",
    "r_lower=lambda theta: 0\n",
    "r_upper=lambda theta: np.sin(theta)\n",
    "\n",
    "z_lower=lambda r, theta: 0\n",
    "z_upper=lambda r, theta: r * np.sin(theta)\n",
    "\n",
    "\n",
    "# Integrate the function over the specified region\n",
    "result, error = tplquad(integrand, theta_lower, theta_upper, r_lower, r_upper, z_lower, z_upper)\n",
    "\n",
    "print(\"Result:\", result)\n",
    "print(\"Error:\", error)"
   ]
  },
  {
   "cell_type": "code",
   "execution_count": null,
   "id": "e2bb0e30-1ed1-4d0b-9af8-e43862d0ed83",
   "metadata": {},
   "outputs": [],
   "source": []
  }
 ],
 "metadata": {
  "kernelspec": {
   "display_name": "Python 3 (ipykernel)",
   "language": "python",
   "name": "python3"
  },
  "language_info": {
   "codemirror_mode": {
    "name": "ipython",
    "version": 3
   },
   "file_extension": ".py",
   "mimetype": "text/x-python",
   "name": "python",
   "nbconvert_exporter": "python",
   "pygments_lexer": "ipython3",
   "version": "3.12.4"
  }
 },
 "nbformat": 4,
 "nbformat_minor": 5
}
