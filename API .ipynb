{
 "cells": [
  {
   "cell_type": "code",
   "execution_count": 2,
   "id": "10bea90b-ec98-45e8-8837-8826ef8a7202",
   "metadata": {},
   "outputs": [],
   "source": [
    "import requests"
   ]
  },
  {
   "cell_type": "code",
   "execution_count": null,
   "id": "34c3ab01-6a1a-4e04-9374-2eae5d442b16",
   "metadata": {},
   "outputs": [
    {
     "name": "stdin",
     "output_type": "stream",
     "text": [
      "ask me:  how many alphabets does farsi have?\n"
     ]
    },
    {
     "name": "stdout",
     "output_type": "stream",
     "text": [
      "سلام، من ربات آیولرن هستم، در حال حاضر زمان استفاده از این جلسه به پایان رسیده، ساعت 9 امشب در لایو میبینمتون.\n"
     ]
    }
   ],
   "source": [
    "for i in range(10):\n",
    "    soal=input('ask me: ')\n",
    "    if soal=='N':\n",
    "        break\n",
    "    else:\n",
    "        out=requests.get(\"http://5.161.91.18//chat?tesxt=\"+soal)\n",
    "        print(out.json())"
   ]
  },
  {
   "cell_type": "code",
   "execution_count": null,
   "id": "ed5a18c0-ffea-4209-89f0-900df0cbb34f",
   "metadata": {},
   "outputs": [],
   "source": []
  }
 ],
 "metadata": {
  "kernelspec": {
   "display_name": "Python 3 (ipykernel)",
   "language": "python",
   "name": "python3"
  },
  "language_info": {
   "codemirror_mode": {
    "name": "ipython",
    "version": 3
   },
   "file_extension": ".py",
   "mimetype": "text/x-python",
   "name": "python",
   "nbconvert_exporter": "python",
   "pygments_lexer": "ipython3",
   "version": "3.12.4"
  }
 },
 "nbformat": 4,
 "nbformat_minor": 5
}
